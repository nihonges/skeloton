{
 "cells": [
  {
   "cell_type": "code",
   "execution_count": null,
   "metadata": {},
   "outputs": [],
   "source": [
    "# import driveandact as daa\n",
    "# from daa_viewer_3d import DAADataManager, RenderCV2, RenderO3D, O3DVisualizer"
   ]
  },
  {
   "cell_type": "code",
   "execution_count": null,
   "metadata": {},
   "outputs": [],
   "source": [
    "# class Args:\n",
    "#     video = \"/home/hussam/Documents/KIT/SS 2022/CV Praktikum/Dataset/Centre mirror/inner_mirror/vp1/run1b_2018-05-29-14-02-47.ids_1.mp4\"\n",
    "#     calibrations  = \"/home/hussam/Documents/KIT/SS 2022/CV Praktikum/Dataset/Centre mirror/inner_mirror/\"\n",
    "#     interior = None\n",
    "#     keypoints3d_postfix = \"openpose.3d.csv\"\n",
    "#     keypoints3d = \"/home/hussam/Documents/KIT/SS 2022/CV Praktikum/Dataset/Annotations/2d_3d_annotations\"\n",
    "#     start = 400\n",
    "#     no_undistort = False\n",
    "#     bbox = None\n",
    "#     keypoints2d = None\n",
    "#     keypoints2d_postfix = 'openpose.2d.csv'\n",
    "#     objects = None\n",
    "#     actions = '/home/hussam/Documents/KIT/SS 2022/CV Praktikum/Dataset/Annotations/Activities/activities_3s/inner_mirror'\n",
    "\n",
    "\n",
    "# args = Args()"
   ]
  },
  {
   "cell_type": "code",
   "execution_count": null,
   "metadata": {},
   "outputs": [],
   "source": [
    "# data_manager = DAADataManager(args)"
   ]
  },
  {
   "cell_type": "code",
   "execution_count": null,
   "metadata": {},
   "outputs": [],
   "source": [
    "# render_2d = RenderCV2(len(data_manager.video), not args.no_undistort)\n",
    "# render_3d = RenderO3D()\n",
    "# for frame_index in range(args.start, len(data_manager.video)):\n",
    "#         frame_id = data_manager.frame_ids[frame_index]\n",
    "#         final_img = render_2d.render(data_manager, frame_id)\n",
    "#         render_3d.add_image(final_img)\n",
    "#         render_3d.render(data_manager, frame_id)\n",
    "#         if not render_3d.spin_once():\n",
    "#             break"
   ]
  }
 ],
 "metadata": {
  "language_info": {
   "name": "python"
  },
  "orig_nbformat": 4
 },
 "nbformat": 4,
 "nbformat_minor": 2
}
